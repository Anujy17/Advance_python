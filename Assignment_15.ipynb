{
  "nbformat": 4,
  "nbformat_minor": 0,
  "metadata": {
    "colab": {
      "provenance": []
    },
    "kernelspec": {
      "name": "python3",
      "display_name": "Python 3"
    },
    "language_info": {
      "name": "python"
    }
  },
  "cells": [
    {
      "cell_type": "markdown",
      "source": [
        "# Assignment 15"
      ],
      "metadata": {
        "id": "OlnXek8Opifi"
      }
    },
    {
      "cell_type": "markdown",
      "source": [
        "### 1. What are the new features added in Python 3.8 version?"
      ],
      "metadata": {
        "id": "4bIV2jg8pgF0"
      }
    },
    {
      "cell_type": "markdown",
      "source": [
        "Positional-only parameters(/)\n",
        "\n",
        "There is a new function parameter syntax “/” which indicates that some function parameters must be specified positionally and can’t be used as keyword arguments.\n",
        "\n",
        "Assignment Expressions(:=)\n",
        "\n",
        "This operator is used to assign and return a value in the same expression. This removes the need for initializing the variable upfront.\n",
        "\n",
        "f-strings now support “=”\n",
        "\n",
        "This string formatting mechanism is known as Literal String Interpolation or more commonly as F-strings (because of the leading f character preceding the string literal). The idea behind f-strings is to make string interpolation simpler. Python 3.8 allows the use of the above-discussed assignment operator and equal sign (=) inside the f-strings.\n",
        "\n",
        "reversed() works with a dictionary Unlike Python 3.7, now in Python 3.8, the built-in method “reversed()” can be used for accessing the elements in the reverse order of insertion.\n",
        "\n",
        "No parentheses for return and yield statements ‘yield’ and ‘return’ statements do not require parentheses to return multiple values.\n",
        "\n",
        "pow() function In the three-argument form of pow(), when the exponent is -1, it calculates the modular multiplicative inverse of the given value.\n",
        "\n",
        "Syntax Warning If you miss a comma in your code such as a = [(1, 2) (3, 4)], instead of throwing TypeError, it displays an informative Syntax warning."
      ],
      "metadata": {
        "id": "g4PHzmwXpsm3"
      }
    },
    {
      "cell_type": "markdown",
      "source": [
        "### 2. What is monkey patching in Python?"
      ],
      "metadata": {
        "id": "isax6d2KpvpL"
      }
    },
    {
      "cell_type": "markdown",
      "source": [
        "In python, monkey patching refers to run-time modifications of a class or module. In Python, we can actually change the behavior of code at run-time."
      ],
      "metadata": {
        "id": "6t3JtKSspzXp"
      }
    },
    {
      "cell_type": "markdown",
      "source": [
        "### 3. What is the difference between a shallow copy and deep copy?"
      ],
      "metadata": {
        "id": "Nb03BK0Zp7TC"
      }
    },
    {
      "cell_type": "markdown",
      "source": [
        "In python, when we use = operator, it doesnot create a copy of the object. It just creates the variable, which shares a reference to the same memory location. This is called as shallow copy. In deep copy, new object is a copy of old object and it is created at different memory address and any changes made to new object won't be reflected in old object."
      ],
      "metadata": {
        "id": "HhcEXkGfp-Ly"
      }
    },
    {
      "cell_type": "markdown",
      "source": [
        "### 4. What is the maximum possible length of an identifier?"
      ],
      "metadata": {
        "id": "rsvYz1tFp_Qw"
      }
    },
    {
      "cell_type": "markdown",
      "source": [
        "The maximum possible length of an identifier is not defined in Python. It can be any number."
      ],
      "metadata": {
        "id": "rirhByCBqB95"
      }
    },
    {
      "cell_type": "markdown",
      "source": [
        "### 5. What is generator comprehension?"
      ],
      "metadata": {
        "id": "qejHkxt8qFg5"
      }
    },
    {
      "cell_type": "markdown",
      "source": [
        "It is like a list comprehension but it returns an iteraor. We use () instead of [] to achieve this."
      ],
      "metadata": {
        "id": "6an-dYFPqHwe"
      }
    },
    {
      "cell_type": "code",
      "execution_count": 1,
      "metadata": {
        "colab": {
          "base_uri": "https://localhost:8080/"
        },
        "id": "K0rBkhOXpasA",
        "outputId": "1e81f96f-73cb-426d-bff4-104bc9f02b66"
      },
      "outputs": [
        {
          "output_type": "stream",
          "name": "stdout",
          "text": [
            "<generator object <genexpr> at 0x7f460c12a200>\n",
            "0\n",
            "1\n",
            "2\n",
            "3\n",
            "4\n"
          ]
        }
      ],
      "source": [
        "numbers = (i for i in range(5))\n",
        "\n",
        "print(numbers)\n",
        "\n",
        "print(next(numbers))\n",
        "print(next(numbers))\n",
        "print(next(numbers))\n",
        "print(next(numbers))\n",
        "print(next(numbers))"
      ]
    }
  ]
}
