{
  "nbformat": 4,
  "nbformat_minor": 0,
  "metadata": {
    "colab": {
      "provenance": []
    },
    "kernelspec": {
      "name": "python3",
      "display_name": "Python 3"
    },
    "language_info": {
      "name": "python"
    }
  },
  "cells": [
    {
      "cell_type": "markdown",
      "source": [
        "# Assignment 3 Advance Python"
      ],
      "metadata": {
        "id": "V5UKgXngnLN7"
      }
    },
    {
      "cell_type": "markdown",
      "source": [
        "### 1. What is the concept of an abstract superclass?"
      ],
      "metadata": {
        "id": "Mbvc9QvSnUA9"
      }
    },
    {
      "cell_type": "markdown",
      "source": [
        "Ans : \n",
        "* Abstract class is an class which only contains the defination it doesn't have any implementation.\n",
        "* it is used to hide the implementation. if a class contains one or more abstract method it is also called as abstract class. \n",
        "* child class only knows the input and output about the abstract method they have to implement methods by them only."
      ],
      "metadata": {
        "id": "9Y3T2_R9naJj"
      }
    },
    {
      "cell_type": "code",
      "source": [
        "from abc import ABC, abstractmethod\n",
        "class polygon(ABC):\n",
        "  @abstractmethod\n",
        "\n",
        "  # Abtract method it doesn't have implementation\n",
        "  def no_of_sides(self):  \n",
        "    pass\n",
        "\n",
        "class Triangle(polygon):\n",
        "\n",
        "  #overriding abstract method in child class \n",
        "  def no_of_sides(self):\n",
        "    print(\"I have 3 sides\")\n",
        "\n"
      ],
      "metadata": {
        "id": "IfUA2VqFqkK9"
      },
      "execution_count": 1,
      "outputs": []
    },
    {
      "cell_type": "markdown",
      "source": [
        "### 2. What happens when a class statement's top level contains a basic assignment statement?"
      ],
      "metadata": {
        "id": "pBGD5tb0royo"
      }
    },
    {
      "cell_type": "markdown",
      "source": [
        "When a Class statement's top level contains a basic assignment statement, its usually treated as a class attribute or class level variable.\n",
        "\n",
        "where as assignment statements inside methods are treated as instance attributes or local attributes.\n",
        "\n",
        "When an instance of a class is created a single copy of class attributes is maintained and shared to all instances of class. where as each instance object maintains its own copy of instance variables."
      ],
      "metadata": {
        "id": "tO4KeZkKrr2k"
      }
    },
    {
      "cell_type": "code",
      "source": [
        "class Person:\n",
        "    species = 'Homesapiens' # class attribute\n",
        "    def __init__(self,name,gender):\n",
        "        self.name = name # instance attributes\n",
        "        self.gender = gender"
      ],
      "metadata": {
        "id": "iKeIjt9pr4xy"
      },
      "execution_count": 2,
      "outputs": []
    },
    {
      "cell_type": "markdown",
      "source": [
        "### 3. Why does a class need to manually call a superclass's init method?"
      ],
      "metadata": {
        "id": "yHEz0zxFr1Rr"
      }
    },
    {
      "cell_type": "markdown",
      "source": [
        "Ans: if a child class have \\__init__ method then it is not going to inherit the \\__init__ method of the superclass we have to do it manually."
      ],
      "metadata": {
        "id": "hoS9bVggseV4"
      }
    },
    {
      "cell_type": "code",
      "source": [
        "class Person:\n",
        "  def __init__(self,name,age):\n",
        "    self.name=name\n",
        "    self.age=age\n",
        "class emp(Person):\n",
        "  def __init__(self,name,age,role):\n",
        "    super().__init__(name,age)\n",
        "    self.role=role\n",
        "abc=emp('aman',21,'developer')\n",
        "print(abc.__dict__)"
      ],
      "metadata": {
        "colab": {
          "base_uri": "https://localhost:8080/"
        },
        "id": "yE3Qp_Fqs5xf",
        "outputId": "ca522db8-ac44-4e99-9fd9-5fedd65adddd"
      },
      "execution_count": 4,
      "outputs": [
        {
          "output_type": "stream",
          "name": "stdout",
          "text": [
            "{'name': 'aman', 'age': 21, 'role': 'developer'}\n"
          ]
        }
      ]
    },
    {
      "cell_type": "markdown",
      "source": [
        "### 4. How can you augment, instead of completely replacing, an inherited method?"
      ],
      "metadata": {
        "id": "w5gqXXDsto5I"
      }
    },
    {
      "cell_type": "markdown",
      "source": [
        "super() method can be used to augment, instead of completely replacing, an inherited method."
      ],
      "metadata": {
        "id": "19HPiG4Ntsgx"
      }
    },
    {
      "cell_type": "code",
      "source": [
        "class Person:\n",
        "  def __init__(self,name,age):\n",
        "    self.name=name\n",
        "    self.age=age\n",
        "class emp(Person):\n",
        "  def __init__(self,name,age,role):\n",
        "    super().__init__(name,age)\n",
        "    self.role=role\n",
        "abc=emp('aman',21,'developer')\n",
        "print(abc.__dict__)"
      ],
      "metadata": {
        "colab": {
          "base_uri": "https://localhost:8080/"
        },
        "id": "AA5RcGQvtbnE",
        "outputId": "270edaf0-e11f-45f3-ccdb-c601af730c22"
      },
      "execution_count": 5,
      "outputs": [
        {
          "output_type": "stream",
          "name": "stdout",
          "text": [
            "{'name': 'aman', 'age': 21, 'role': 'developer'}\n"
          ]
        }
      ]
    },
    {
      "cell_type": "markdown",
      "source": [
        "### 5. How is the local scope of a class different from that of a function?"
      ],
      "metadata": {
        "id": "see23e39ufGl"
      }
    },
    {
      "cell_type": "markdown",
      "source": [
        "A Variable which is defined inside a function is local to that function. it is accesible from the point at which it is defined until the end of the function, and exists for as long as the function is existing.\n",
        "\n",
        "Similary a variable inside of a class also has a local variable scope. Variables which are defined in the class body (but outside all methods) are called as class level variables or class attributes. they can be referenced by there bare names within the same scope, but they can also be accessed from outside this scope if we use the attribute access operator (.). on a class or an instance of the class."
      ],
      "metadata": {
        "id": "ca4XgSDtuhps"
      }
    },
    {
      "cell_type": "code",
      "source": [
        "def hello(name):\n",
        "    name = name\n",
        "    print(f'you\\'re name is {name}')\n",
        "hello('Elon Musk')\n",
        "try:\n",
        "    name\n",
        "except NameError:\n",
        "    print('Name varible is not available outside hello function scope')\n",
        "\n",
        "class Person:\n",
        "    species = \"HomeSapines\"\n",
        "    def __init__(self):\n",
        "        pass\n",
        "print(Person.species) # Accessing species using class name\n",
        "Male = Person()\n",
        "print(Male.species) # Accessing species using instance of class"
      ],
      "metadata": {
        "colab": {
          "base_uri": "https://localhost:8080/"
        },
        "id": "xw2qMyshxNIo",
        "outputId": "80001696-8509-4155-e40c-32318d9acab7"
      },
      "execution_count": 7,
      "outputs": [
        {
          "output_type": "stream",
          "name": "stdout",
          "text": [
            "you're name is Elon Musk\n",
            "Name varible is not available outside hello function scope\n",
            "HomeSapines\n",
            "HomeSapines\n"
          ]
        }
      ]
    }
  ]
}
