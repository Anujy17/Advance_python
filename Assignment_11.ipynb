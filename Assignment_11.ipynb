{
  "nbformat": 4,
  "nbformat_minor": 0,
  "metadata": {
    "colab": {
      "provenance": []
    },
    "kernelspec": {
      "name": "python3",
      "display_name": "Python 3"
    },
    "language_info": {
      "name": "python"
    }
  },
  "cells": [
    {
      "cell_type": "markdown",
      "source": [
        "# Assignment 11"
      ],
      "metadata": {
        "id": "-WdmLKJ8hp41"
      }
    },
    {
      "cell_type": "markdown",
      "source": [
        "### Q1. What is the concept of a metaclass?"
      ],
      "metadata": {
        "id": "_amoVZfDhmuC"
      }
    },
    {
      "cell_type": "markdown",
      "source": [
        "In python everything is associated with type. In other programming languages, int, str, array are data type. But, in python, they are objects of the class int, str, list, dict. We can create user defined type by creating a class and then object of that class.\n",
        "\n",
        "A Class is also an object, and just like any other object it’s a instance of something called Metaclass. A special class type creates these Class object. The type class is default metaclass which is responsible for making classes."
      ],
      "metadata": {
        "id": "X7JY6rK-htyW"
      }
    },
    {
      "cell_type": "markdown",
      "source": [
        "### Q2. What is the best way to declare a class's metaclass?"
      ],
      "metadata": {
        "id": "Nbp-zxF6hu5X"
      }
    },
    {
      "cell_type": "markdown",
      "source": [
        "When defining a class and no metaclass is defined the default type metaclass will be used. If a metaclass is given and it is not an instance of type(), then it is used directly as the metaclass."
      ],
      "metadata": {
        "id": "-WJO70-5hy_Z"
      }
    },
    {
      "cell_type": "code",
      "execution_count": 2,
      "metadata": {
        "colab": {
          "base_uri": "https://localhost:8080/"
        },
        "id": "1APPsBPdhi7k",
        "outputId": "8e9cb6c4-dc18-4b92-92cc-b815a25b829f"
      },
      "outputs": [
        {
          "output_type": "stream",
          "name": "stdout",
          "text": [
            "<class 'type'>\n",
            "<class '__main__.A'>\n",
            "<class '__main__.A'>\n"
          ]
        }
      ],
      "source": [
        "class A(type):\n",
        "    pass\n",
        "\n",
        "class B(metaclass=A):  # for class B, class A is a metaclass\n",
        "    pass\n",
        "class C(B):\n",
        "    pass\n",
        "\n",
        "print(type(A))\n",
        "print(type(B))\n",
        "print(type(C))"
      ]
    },
    {
      "cell_type": "markdown",
      "source": [
        "### Q3. How do class decorators overlap with metaclasses for handling classes?"
      ],
      "metadata": {
        "id": "NoTZ8JKIh4xF"
      }
    },
    {
      "cell_type": "markdown",
      "source": [
        "Both decorators and metaclass have some common things. When we want to aplly some common functionality to attributes of the class instances, both can be used. There are some problems which can be solved by decorators as well as by metaclasses. But there are a few problems that can only be solved by metaclasses. Use of metaclass affects its children while the decorator affects only the current class."
      ],
      "metadata": {
        "id": "LtOTy6SAh7tU"
      }
    },
    {
      "cell_type": "markdown",
      "source": [
        "### Q4. How do class decorators overlap with metaclasses for handling instances?"
      ],
      "metadata": {
        "id": "RR5-PjFlh-Qo"
      }
    },
    {
      "cell_type": "markdown",
      "source": [
        "Both decorators and metaclass have some common things. When we want to aplly some common functionality to attributes of the class instances, both can be used. There are some problems which can be solved by decorators as well as by metaclasses. But there are a few problems that can only be solved by metaclasses. Use of metaclass affects its children while the decorator affects only the current class."
      ],
      "metadata": {
        "id": "koFwYJQiiBS2"
      }
    }
  ]
}