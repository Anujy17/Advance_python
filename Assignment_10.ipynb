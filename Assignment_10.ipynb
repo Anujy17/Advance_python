{
  "nbformat": 4,
  "nbformat_minor": 0,
  "metadata": {
    "colab": {
      "provenance": []
    },
    "kernelspec": {
      "name": "python3",
      "display_name": "Python 3"
    },
    "language_info": {
      "name": "python"
    }
  },
  "cells": [
    {
      "cell_type": "markdown",
      "source": [
        "# Assignment 10"
      ],
      "metadata": {
        "id": "_OOJ-rPUgVvC"
      }
    },
    {
      "cell_type": "markdown",
      "source": [
        "### Q1. What is the difference between getattr and getattribute?"
      ],
      "metadata": {
        "id": "ExyRnNaSgZmQ"
      }
    },
    {
      "cell_type": "markdown",
      "source": [
        "Normally, if we want to access the attribute of a class, we access it with instance of the class like instance.attribute_name. These attributes are already present in the class. Where as, to access the attribute of class which are not defined in the class, we use getattr() method.\n",
        "\n",
        "But if the attribute does exist, getattr won’t be invoked"
      ],
      "metadata": {
        "id": "1ZP_rFY7geeP"
      }
    },
    {
      "cell_type": "code",
      "execution_count": 1,
      "metadata": {
        "colab": {
          "base_uri": "https://localhost:8080/"
        },
        "id": "M23k7BYXgVAc",
        "outputId": "1a8d409d-3864-4125-a2d2-1060aad1e014"
      },
      "outputs": [
        {
          "output_type": "stream",
          "name": "stdout",
          "text": [
            "mumbai\n",
            "test\n"
          ]
        }
      ],
      "source": [
        "class Sample:\n",
        "    def __init__(self,address):\n",
        "        self.address = address\n",
        "    \n",
        "    def __getattr__(self,name):\n",
        "        return name.lower()\n",
        "    \n",
        "s =Sample('mumbai')\n",
        "print(s.address) # existing attribute\n",
        "print(s.test) # test is non defined in class"
      ]
    },
    {
      "cell_type": "markdown",
      "source": [
        "getattribute will look for every attribute, doesn’t matter if the attribute exists or not."
      ],
      "metadata": {
        "id": "zEdFj2HWgq0x"
      }
    },
    {
      "cell_type": "code",
      "source": [
        "class Dummy():\n",
        "\n",
        "    def __getattribute__(self, attr):\n",
        "        return 'New Value'\n",
        "\n",
        "d = Dummy()\n",
        "d.value = \"Old value\"\n",
        "print(d.value)  "
      ],
      "metadata": {
        "colab": {
          "base_uri": "https://localhost:8080/"
        },
        "id": "Z2SJrpU7goIj",
        "outputId": "d9e21784-1fbd-4463-f6d9-61f984f3095b"
      },
      "execution_count": 2,
      "outputs": [
        {
          "output_type": "stream",
          "name": "stdout",
          "text": [
            "New Value\n"
          ]
        }
      ]
    },
    {
      "cell_type": "markdown",
      "source": [
        "### Q2. What is the difference between properties and descriptors?"
      ],
      "metadata": {
        "id": "G4Vu5hHOg5tC"
      }
    },
    {
      "cell_type": "markdown",
      "source": [
        "In Properties, We can bind getter, setter functions with an attribute name, using the built-in property function. In descriptor, We can bind getter, setter (and deleter) functions into a separate class. We then assign an object of this class to the attribute name."
      ],
      "metadata": {
        "id": "h2lXAYzTg8Oi"
      }
    },
    {
      "cell_type": "markdown",
      "source": [
        "### Q3. What are the key differences in functionality between getattr and getattribute, as well as properties and descriptors?"
      ],
      "metadata": {
        "id": "EktU1Pvqg9WT"
      }
    },
    {
      "cell_type": "markdown",
      "source": [
        "To access the attribute of class which are not defined in the class, we use getattr() method. But if the attribute does exist, getattr won’t be invoked. getattribute will look for every attribute, doesn’t matter if the attribute exists or not.\n",
        "\n",
        "In Properties, We can bind getter, setter functions with an attribute name, using the built-in property function. In descriptor, We can bind getter, setter (and deleter) functions into a separate class. We then assign an object of this class to the attribute name."
      ],
      "metadata": {
        "id": "eKABmTM1hCwa"
      }
    }
  ]
}