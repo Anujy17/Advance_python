{
  "nbformat": 4,
  "nbformat_minor": 0,
  "metadata": {
    "colab": {
      "provenance": []
    },
    "kernelspec": {
      "name": "python3",
      "display_name": "Python 3"
    },
    "language_info": {
      "name": "python"
    }
  },
  "cells": [
    {
      "cell_type": "markdown",
      "source": [
        "# Assignment 1 Advance Python"
      ],
      "metadata": {
        "id": "hftGNUZxiP9O"
      }
    },
    {
      "cell_type": "markdown",
      "source": [
        "### **Q1. What is the purpose of Python's OOP?**"
      ],
      "metadata": {
        "id": "t5LjO-2Sisbw"
      }
    },
    {
      "cell_type": "markdown",
      "source": [
        "**Ans**: Object-oriented programming is a programming paradigm that provides a means of structuring programs so that properties and behaviors are bundled into individual objects\n",
        "\n",
        "\n",
        "*   In Python, object-oriented Programming (OOPs) uses objects and classes in programming.\n",
        "\n",
        "*   It aims to implement real-world entities like inheritance, polymorphisms, encapsulation, etc. in the programming.\n",
        "\n",
        "* The main concept of OOPs is to bind the data and the functions that work on that together as a single unit so that no other part of the code can access this data.\n",
        "\n",
        "* It comes up with the following advantages:\n",
        " \n",
        "* It helps to divide our over all program into different small segments and thus making it solving easy with the use of objects\n",
        "* Helps in easy maintenance and modification of existing program\n",
        "* Multiple instances of an object can be made.\n"
      ],
      "metadata": {
        "id": "etv7QDBRiuKP"
      }
    },
    {
      "cell_type": "markdown",
      "source": [
        "### **Q2. Where does an inheritance search look for an attribute?**"
      ],
      "metadata": {
        "id": "tfu84S0ojUSC"
      }
    },
    {
      "cell_type": "markdown",
      "source": [
        "**Ans:** Python searches for an attribute in an upward tree of attributes. it first searches for the attribute in its instance and then looks in the class it is generated from, to all super classes listed in its class header"
      ],
      "metadata": {
        "id": "nLbaxCzXi0mY"
      }
    },
    {
      "cell_type": "markdown",
      "source": [
        "### **Q3. How do you distinguish between a class object and an instance object?**"
      ],
      "metadata": {
        "id": "-VJuJJ_nj4HX"
      }
    },
    {
      "cell_type": "markdown",
      "source": [
        "**Ans:** The differences between a class object and an instance object are:\n",
        "\n",
        "\n",
        "1.   Class is a template for creating objects whereas object is an instance of class\n",
        "2. Seperate memory is allocated for each object whenever an object is created. but for a class this doesnot happens.\n",
        "3. A Class is created once. Many objects are created using a class.\n",
        "4. As Classes have no allocated memory. they can't be manipulated. but objects can be manipulated.\n",
        "\n",
        "\n"
      ],
      "metadata": {
        "id": "HoIfRKvyj9MR"
      }
    },
    {
      "cell_type": "markdown",
      "source": [
        "### **Q4. What makes the first argument in a class’s method function special?**"
      ],
      "metadata": {
        "id": "-Rw2ERLHkQUm"
      }
    },
    {
      "cell_type": "markdown",
      "source": [
        "**Ans:** Python Classes usually have three types of methods which are:\n",
        "\n",
        "* Instance Methods (object level methods)\n",
        "* Class Methods (class level methods)\n",
        "* Static Methods (general utility methods)\n",
        "* self is the first argument for instance methods. which refers to the object itself\n",
        "* cls is the first argument for class methods which refers to the class itself"
      ],
      "metadata": {
        "id": "qix4rTzUkVYU"
      }
    },
    {
      "cell_type": "markdown",
      "source": [
        "### **Q5. What is the purpose of the init method?**"
      ],
      "metadata": {
        "id": "Id1SAQh2k5CE"
      }
    },
    {
      "cell_type": "markdown",
      "source": [
        "**Ans:**  __init__ is a reseved method in python classes. It serves the role of a constructor in object oriented terminology. This method is called when an object is created from a class and it allows the class to initialize the attributes of the class"
      ],
      "metadata": {
        "id": "FPkS26KQk9zZ"
      }
    },
    {
      "cell_type": "markdown",
      "source": [
        "### **Q6. What is the process for creating a class instance?**"
      ],
      "metadata": {
        "id": "RTIbTiIslDSA"
      }
    },
    {
      "cell_type": "markdown",
      "source": [
        "**Ans:** To create a class instance, we need to call the class by its name and pass the arguments to the class, which its init method accepts.<br>\n",
        "Example: my_name = my_class(\"Mano\",\"vishnu\") Here my_name is an instance of class my_class with attributes \"Mano\" and \"Vishnu\"."
      ],
      "metadata": {
        "id": "AvpKhLw1lTKy"
      }
    },
    {
      "cell_type": "markdown",
      "source": [
        "### **Q7. What is the process for creating a class?**"
      ],
      "metadata": {
        "id": "KKx6Ft_llWoc"
      }
    },
    {
      "cell_type": "markdown",
      "source": [
        "**Ans: class** keyword is used to created a class in python. The syntax to create a class in python is class :\n",
        "\n",
        "**Example: class Car: ➞** this creates a class called Car"
      ],
      "metadata": {
        "id": "qg4U0wDJlx-f"
      }
    },
    {
      "cell_type": "markdown",
      "source": [
        "### **Q8. How would you define the superclasses of a class?**"
      ],
      "metadata": {
        "id": "qiD4_Lapl6Mh"
      }
    },
    {
      "cell_type": "markdown",
      "source": [
        "**Ans:** Superclass/Parent class is given as a arugment to the child class\n",
        "\n",
        "**Example:** class Employee(Person): Here child class Employee inherits attributes and methofs from Superclass/Parent Person"
      ],
      "metadata": {
        "id": "M4Y2l42imJIi"
      }
    },
    {
      "cell_type": "markdown",
      "source": [],
      "metadata": {
        "id": "YVJ_W_hSmUR_"
      }
    }
  ]
}
