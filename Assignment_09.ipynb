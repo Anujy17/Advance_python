{
  "nbformat": 4,
  "nbformat_minor": 0,
  "metadata": {
    "colab": {
      "provenance": []
    },
    "kernelspec": {
      "name": "python3",
      "display_name": "Python 3"
    },
    "language_info": {
      "name": "python"
    }
  },
  "cells": [
    {
      "cell_type": "markdown",
      "source": [
        "# Assignment 9"
      ],
      "metadata": {
        "id": "yZOpnHbMe1zK"
      }
    },
    {
      "cell_type": "markdown",
      "source": [
        "### Q1. In Python 3.X, what are the names and functions of string object types?"
      ],
      "metadata": {
        "id": "YoK7KOKoe6Mk"
      }
    },
    {
      "cell_type": "markdown",
      "source": [
        "In Python 3.X and later, String objects has bulit in class named as \"str\" and it is used to store characters in memory in encoded format."
      ],
      "metadata": {
        "id": "HozkBDn6e-N2"
      }
    },
    {
      "cell_type": "markdown",
      "source": [
        "### Q2. How do the string forms in Python 3.X vary in terms of operations?"
      ],
      "metadata": {
        "id": "VcKX3zzLfATm"
      }
    },
    {
      "cell_type": "markdown",
      "source": [
        "Python supports ASCII as a subset of Unicode. The default encoding of characters in Python is UTF-8 (Unicode Transformation Format - 8-bit).ASCII is really a 7-bit character set; it is mapped to 8-bit bytes by setting the high bit to zero. Thus, ASCII characters are unchanged in UTF-8. A non-zero high bit indicates that a character composed of multiple bytes."
      ],
      "metadata": {
        "id": "3rv5K4C7fEIR"
      }
    },
    {
      "cell_type": "code",
      "execution_count": 1,
      "metadata": {
        "colab": {
          "base_uri": "https://localhost:8080/"
        },
        "id": "MlqJXPrSexEK",
        "outputId": "d9b9af14-340d-413d-ee99-e5c8235d8afb"
      },
      "outputs": [
        {
          "output_type": "stream",
          "name": "stdout",
          "text": [
            "105\n"
          ]
        }
      ],
      "source": [
        "u = 'mumbai'\n",
        "print(ord(u[-1]))"
      ]
    },
    {
      "cell_type": "markdown",
      "source": [
        "### Q3. In 3.X, how do you put non-ASCII Unicode characters in a string?"
      ],
      "metadata": {
        "id": "ZNV3z7pvfLUs"
      }
    },
    {
      "cell_type": "markdown",
      "source": [
        "As we know, there are only 127 ASCII characters in ascii table. It stores symbols, letters, whitespace characters, non printable characters, which are very less. So Python 3 has adopted unicode encoding of strings. for non ASCII u can get any value more than 127."
      ],
      "metadata": {
        "id": "XM65zeFGfPDe"
      }
    },
    {
      "cell_type": "code",
      "source": [
        "s = 'mumbai'\n",
        "\n",
        "s += chr(128)+chr(169)\n",
        "print(s)"
      ],
      "metadata": {
        "colab": {
          "base_uri": "https://localhost:8080/"
        },
        "id": "vjZVOi9DfKom",
        "outputId": "558373bc-2f0c-4309-ed5f-ba647dae8283"
      },
      "execution_count": 2,
      "outputs": [
        {
          "output_type": "stream",
          "name": "stdout",
          "text": [
            "mumbai©\n"
          ]
        }
      ]
    },
    {
      "cell_type": "markdown",
      "source": [
        "### Q4. In Python 3.X, what are the key differences between text-mode and binary-mode files?"
      ],
      "metadata": {
        "id": "_KOPxRUJfXaj"
      }
    },
    {
      "cell_type": "markdown",
      "source": [
        "Files opened in binary mode (appending 'b' to the mode argument) return contents as bytes objects without any decoding. In text mode (the default, or when 't' is appended to the mode argument), the contents of the file are returned as strings, the bytes having been first decoded using a platform-dependent encoding or using the specified encoding if given."
      ],
      "metadata": {
        "id": "CMQ5x5uYfayw"
      }
    },
    {
      "cell_type": "markdown",
      "source": [
        "### Q5. How can you interpret a Unicode text file containing text encoded in a different encoding than your platform's default?"
      ],
      "metadata": {
        "id": "9TM1-UCYfcyt"
      }
    },
    {
      "cell_type": "markdown",
      "source": [
        "While reading file, we can specify the encoding such as(utf16, utf32), so the file will be decoded according to that encoding and results are returned to the user."
      ],
      "metadata": {
        "id": "WZ_pdX8IfiCU"
      }
    },
    {
      "cell_type": "code",
      "source": [
        "text = \"this is the assignment 9\"\n",
        "f = open('sample.txt','w', encoding='utf16')\n",
        "f.write(text)\n",
        "f.close()\n",
        "\n",
        "f = open('sample.txt','r', encoding='utf16')\n",
        "print(f.read())"
      ],
      "metadata": {
        "colab": {
          "base_uri": "https://localhost:8080/"
        },
        "id": "M_-myupsfUq9",
        "outputId": "4e27a7b8-60e8-4278-9b7b-f25a0f20f2e2"
      },
      "execution_count": 3,
      "outputs": [
        {
          "output_type": "stream",
          "name": "stdout",
          "text": [
            "this is the assignment 9\n"
          ]
        }
      ]
    },
    {
      "cell_type": "code",
      "source": [
        "text = 'यह असाइनमेंट 9 है'\n",
        "encoded_data = text.encode(\"utf16\")\n",
        "\n",
        "file = open(\"sample1.txt\", \"wb\")\n",
        "file.write(encoded_data)\n",
        "\n",
        "file = open(\"sample1.txt\", \"r\", encoding='utf16')\n",
        "\n",
        "print(file.read())"
      ],
      "metadata": {
        "colab": {
          "base_uri": "https://localhost:8080/"
        },
        "id": "C9DoESgAfryw",
        "outputId": "e6e8ef14-e029-4b4b-d0c7-0e5dc7f4b9a7"
      },
      "execution_count": 4,
      "outputs": [
        {
          "output_type": "stream",
          "name": "stdout",
          "text": [
            "यह असाइनमेंट 9 है\n"
          ]
        }
      ]
    },
    {
      "cell_type": "markdown",
      "source": [
        "### Q7. What qualifies ASCII text as a form of Unicode text?"
      ],
      "metadata": {
        "id": "maHwhW_qgC-I"
      }
    },
    {
      "cell_type": "markdown",
      "source": [
        "The first 128 Unicode code points represent the equivalent ASCII characters. They have the same meaning in both ASCII and unicode. Since UTF-8 encodes each of these characters with a single byte, any ASCII text is also a UTF-8 text. Unicode is a superset of ASCII."
      ],
      "metadata": {
        "id": "dWItg828gG74"
      }
    },
    {
      "cell_type": "markdown",
      "source": [
        "### Q8. How much of an effect does the change in string types in Python 3.X have on your code?"
      ],
      "metadata": {
        "id": "hkQuG_tHgJW4"
      }
    },
    {
      "cell_type": "markdown",
      "source": [
        "In Python 3.X and later, there is only one string type that is unicode. So no effect on the code."
      ],
      "metadata": {
        "id": "6PhOlpTggMzg"
      }
    }
  ]
}