{
  "nbformat": 4,
  "nbformat_minor": 0,
  "metadata": {
    "colab": {
      "provenance": []
    },
    "kernelspec": {
      "name": "python3",
      "display_name": "Python 3"
    },
    "language_info": {
      "name": "python"
    }
  },
  "cells": [
    {
      "cell_type": "markdown",
      "source": [
        "# Assignment 8"
      ],
      "metadata": {
        "id": "gu7GmnC5SPWW"
      }
    },
    {
      "cell_type": "markdown",
      "source": [
        "### Q1. What are the two latest user-defined exception constraints in Python 3.X?"
      ],
      "metadata": {
        "id": "5Va6iNqLSSXK"
      }
    },
    {
      "cell_type": "markdown",
      "source": [
        "\n",
        "\n",
        "*   raise statement - This is used to raise an inbuilt exception explicitly.\n",
        "\n",
        "*   assert statement - when condition in assert statement is true, program is executed normally. When condition is false, program gives an AssertionError.\n",
        "\n"
      ],
      "metadata": {
        "id": "HWWg7Q3lSaBm"
      }
    },
    {
      "cell_type": "markdown",
      "source": [
        "### Q2. How are class-based exceptions that have been raised matched to handlers?"
      ],
      "metadata": {
        "id": "IpHZv9B-Sh--"
      }
    },
    {
      "cell_type": "markdown",
      "source": [
        "When exceptions are raised, then the exception is handled by the same class mentioned in except statement or its base classes. \"Exception\" is the base class(Superclass) for all other exception classes."
      ],
      "metadata": {
        "id": "0qpfqAfBSmqd"
      }
    },
    {
      "cell_type": "markdown",
      "source": [
        "### Q3. Describe two methods for attaching context information to exception artefacts."
      ],
      "metadata": {
        "id": "M17QXpUSSoHi"
      }
    },
    {
      "cell_type": "markdown",
      "source": [
        "*   By using logging.exception() method, we can log log messages with level ERROR on the logger. I will store the information like type of error, line number, file name and path.\n",
        "*   By using raise keyword. It will also display Traceback of the recent exception raised.\n",
        "\n"
      ],
      "metadata": {
        "id": "di-8PAQuSrNU"
      }
    },
    {
      "cell_type": "code",
      "execution_count": 1,
      "metadata": {
        "colab": {
          "base_uri": "https://localhost:8080/",
          "height": 321
        },
        "id": "BZ0gY0NqSJ9w",
        "outputId": "27712eb3-a4a6-48e9-9449-8a42853a4b7b"
      },
      "outputs": [
        {
          "output_type": "stream",
          "name": "stderr",
          "text": [
            "ERROR:root:division by zero\n",
            "Traceback (most recent call last):\n",
            "  File \"<ipython-input-1-ecac2bd4b516>\", line 4, in <module>\n",
            "    4/0\n",
            "ZeroDivisionError: division by zero\n"
          ]
        },
        {
          "output_type": "error",
          "ename": "ZeroDivisionError",
          "evalue": "ignored",
          "traceback": [
            "\u001b[0;31m---------------------------------------------------------------------------\u001b[0m",
            "\u001b[0;31mZeroDivisionError\u001b[0m                         Traceback (most recent call last)",
            "\u001b[0;32m<ipython-input-1-ecac2bd4b516>\u001b[0m in \u001b[0;36m<module>\u001b[0;34m\u001b[0m\n\u001b[1;32m      2\u001b[0m \u001b[0;34m\u001b[0m\u001b[0m\n\u001b[1;32m      3\u001b[0m \u001b[0;32mtry\u001b[0m\u001b[0;34m:\u001b[0m\u001b[0;34m\u001b[0m\u001b[0;34m\u001b[0m\u001b[0m\n\u001b[0;32m----> 4\u001b[0;31m     \u001b[0;36m4\u001b[0m\u001b[0;34m/\u001b[0m\u001b[0;36m0\u001b[0m\u001b[0;34m\u001b[0m\u001b[0;34m\u001b[0m\u001b[0m\n\u001b[0m\u001b[1;32m      5\u001b[0m \u001b[0;32mexcept\u001b[0m \u001b[0mException\u001b[0m \u001b[0;32mas\u001b[0m \u001b[0me\u001b[0m\u001b[0;34m:\u001b[0m\u001b[0;34m\u001b[0m\u001b[0;34m\u001b[0m\u001b[0m\n\u001b[1;32m      6\u001b[0m     \u001b[0mlogging\u001b[0m\u001b[0;34m.\u001b[0m\u001b[0mexception\u001b[0m\u001b[0;34m(\u001b[0m\u001b[0me\u001b[0m\u001b[0;34m)\u001b[0m\u001b[0;34m\u001b[0m\u001b[0;34m\u001b[0m\u001b[0m\n",
            "\u001b[0;31mZeroDivisionError\u001b[0m: division by zero"
          ]
        }
      ],
      "source": [
        "import logging\n",
        "  \n",
        "try: \n",
        "    4/0\n",
        "except Exception as e: \n",
        "    logging.exception(e)\n",
        "    raise"
      ]
    },
    {
      "cell_type": "markdown",
      "source": [
        "### Q4. Describe two methods for specifying the text of an exception object's error message."
      ],
      "metadata": {
        "id": "qfXctFv0TBfC"
      }
    },
    {
      "cell_type": "markdown",
      "source": [
        "\n",
        "\n",
        "1.   We can print the text of an exception, by using the object of an Exception class. We can access different attributes like messgae, args, traceback from that object.\n",
        "2.   By using logging.error() method\n",
        "\n"
      ],
      "metadata": {
        "id": "Bz0CUFfPTDnN"
      }
    },
    {
      "cell_type": "code",
      "source": [
        "try:\n",
        "    a = 'abc'\n",
        "    b = 2    \n",
        "    c = a+b\n",
        "except TypeError as e:\n",
        "    print(e)"
      ],
      "metadata": {
        "colab": {
          "base_uri": "https://localhost:8080/"
        },
        "id": "xXpmbd39S8xk",
        "outputId": "621876ac-c481-4918-ec31-76dfe8e26091"
      },
      "execution_count": 2,
      "outputs": [
        {
          "output_type": "stream",
          "name": "stdout",
          "text": [
            "can only concatenate str (not \"int\") to str\n"
          ]
        }
      ]
    },
    {
      "cell_type": "code",
      "source": [
        "try:\n",
        "    file = open('one.txt','r')\n",
        "except Exception as e:\n",
        "    logging.error(e)"
      ],
      "metadata": {
        "colab": {
          "base_uri": "https://localhost:8080/"
        },
        "id": "DpG3J9z4TOTo",
        "outputId": "b55bc105-d168-434a-c5a7-7aea6a0d660a"
      },
      "execution_count": 3,
      "outputs": [
        {
          "output_type": "stream",
          "name": "stderr",
          "text": [
            "ERROR:root:[Errno 2] No such file or directory: 'one.txt'\n"
          ]
        }
      ]
    },
    {
      "cell_type": "markdown",
      "source": [
        "### Q5. Why do you no longer use string-based exceptions?"
      ],
      "metadata": {
        "id": "p0grCoqmTTlF"
      }
    },
    {
      "cell_type": "markdown",
      "source": [
        "In Python versions 1.5 and earlier, Exceptions were strings and not classes. Now all exceptions are classes, derived from the superclass BaseException. With classes it is more efficiently handled as classes have many useful features."
      ],
      "metadata": {
        "id": "8T-5WwjYTVkq"
      }
    }
  ]
}
