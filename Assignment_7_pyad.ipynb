{
  "nbformat": 4,
  "nbformat_minor": 0,
  "metadata": {
    "colab": {
      "provenance": []
    },
    "kernelspec": {
      "name": "python3",
      "display_name": "Python 3"
    },
    "language_info": {
      "name": "python"
    }
  },
  "cells": [
    {
      "cell_type": "markdown",
      "source": [
        "# Assignment 7 "
      ],
      "metadata": {
        "id": "68SI4b2GIhMD"
      }
    },
    {
      "cell_type": "markdown",
      "source": [
        "### Q1. What is the purpose of the try statement?"
      ],
      "metadata": {
        "id": "ImF1sGJ3InSC"
      }
    },
    {
      "cell_type": "markdown",
      "source": [
        "in try block we use to write the statement which can throw exception after having exception it sends to exception where it can caught by exception handling block."
      ],
      "metadata": {
        "id": "jSSeSi25Ir9P"
      }
    },
    {
      "cell_type": "markdown",
      "source": [
        "### Q2. What are the two most popular try statement variations?"
      ],
      "metadata": {
        "id": "Vc1sA0nrJFfv"
      }
    },
    {
      "cell_type": "markdown",
      "source": [
        "try clause is used with except block to \n",
        "catch the exception, and there is also an else block when no except block is able to catch the exception. at the end we also have finally which will run all time at the end of try except block. in finally block we use to write closing file or resoureces etc."
      ],
      "metadata": {
        "id": "v5jU-9UDJHB1"
      }
    },
    {
      "cell_type": "markdown",
      "source": [
        "### Q3. What is the purpose of the raise statement?"
      ],
      "metadata": {
        "id": "As1knQlFJUv_"
      }
    },
    {
      "cell_type": "markdown",
      "source": [
        "raise statement is used to create user defined exceptions. we can put it in if block if that condition is there then it can raise exception which is specified."
      ],
      "metadata": {
        "id": "NfLU_KH8JXl6"
      }
    },
    {
      "cell_type": "markdown",
      "source": [
        "### Q4. What does the assert statement do, and what other statement is it like?"
      ],
      "metadata": {
        "id": "11Rlh7pDJpiL"
      }
    },
    {
      "cell_type": "markdown",
      "source": [
        "Assert statement is used to check for the condition and raise the AssertionError when that condition is met."
      ],
      "metadata": {
        "id": "F61NtLW6Jtu-"
      }
    },
    {
      "cell_type": "code",
      "execution_count": 1,
      "metadata": {
        "colab": {
          "base_uri": "https://localhost:8080/",
          "height": 130
        },
        "id": "HxVJCfktIBP6",
        "outputId": "37c49311-02e8-4bba-df28-618713720272"
      },
      "outputs": [
        {
          "output_type": "error",
          "ename": "SyntaxError",
          "evalue": "ignored",
          "traceback": [
            "\u001b[0;36m  File \u001b[0;32m\"<ipython-input-1-a70118d0dcc8>\"\u001b[0;36m, line \u001b[0;32m2\u001b[0m\n\u001b[0;31m    assert check_num>0 \"number should greater than 0\"\u001b[0m\n\u001b[0m                       ^\u001b[0m\n\u001b[0;31mSyntaxError\u001b[0m\u001b[0;31m:\u001b[0m invalid syntax\n"
          ]
        }
      ],
      "source": [
        "check_num=int(input(\"enter the number for check\"))\n",
        "assert check_num>0 \"number should greater than 0\"\n",
        "print(check_num)"
      ]
    },
    {
      "cell_type": "markdown",
      "source": [
        "### Q5. What is the purpose of the with/as argument, and what other statement is it like?"
      ],
      "metadata": {
        "id": "312uKj7sKV7-"
      }
    },
    {
      "cell_type": "markdown",
      "source": [
        "with argument is used in file operation while opening a file. main purpose of with argument is it **close file without explicitly** specification.\n",
        "as use to create new object name for the file"
      ],
      "metadata": {
        "id": "1_MHM0BbKe1S"
      }
    }
  ]
}