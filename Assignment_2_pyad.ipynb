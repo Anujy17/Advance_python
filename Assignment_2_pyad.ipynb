{
 "cells": [
  {
   "cell_type": "markdown",
   "id": "eda82cba",
   "metadata": {},
   "source": [
    "# Assignment 2 Advance python"
   ]
  },
  {
   "cell_type": "markdown",
   "id": "1b5e32f8",
   "metadata": {},
   "source": [
    "### Q1. What is the relationship between classes and modules?"
   ]
  },
  {
   "cell_type": "markdown",
   "id": "892eaa60",
   "metadata": {},
   "source": [
    "A Python class is like an outline/blueprint/mold for creating a new object. An object is anything that you wish to manipulate or change while working through the code. Every time a class object is instantiated, which is when we declare a variable, a new object is initiated from scratch<br><br>\n",
    "Whereas in Python, Modules are simply files with the . py extension containing Python code that can be imported inside another Python Program. In simple terms, we can consider a module to be the same as a code library or a file that contains a set of functions/Classes that you want to include in your application."
   ]
  },
  {
   "cell_type": "markdown",
   "id": "5c5b52f9",
   "metadata": {},
   "source": [
    "### Q2. How do you make instances and classes?"
   ]
  },
  {
   "cell_type": "markdown",
   "id": "ecaaf9e2",
   "metadata": {},
   "source": [
    "for creating a class we need to use class keyword and using \\__init__ we can give argument to our functions<br><br>\n",
    "**Example** class Test:<br>\n",
    "    def \\__init__(self,a,b):<br>\n",
    "         &emsp; self.a=a<br>\n",
    "        &emsp; self.b=b<br>\n",
    "for creating instance we have to pass the variable values :<br>\n",
    "**Example** instance=Test(1,2)\n",
    "   \n",
    "        "
   ]
  },
  {
   "cell_type": "markdown",
   "id": "68badcd5",
   "metadata": {},
   "source": [
    "### Q3. Where and how should be class attributes created?"
   ]
  },
  {
   "cell_type": "markdown",
   "id": "a2aedc37",
   "metadata": {},
   "source": [
    "class attribute are used by all the instances so it should be declare before all the defination<br><br>\n",
    "**Example**<br>\n",
    "class car:<br>\n",
    "    &emsp; wheels=4<br>\n",
    "    &emsp; def \\__init__(self,a,b):<br>\n",
    "        &emsp;&emsp; self.a=a<br>\n",
    "        &emsp;&emsp; self.b=b<br>\n",
    "        here wheels is the class attribute "
   ]
  },
  {
   "cell_type": "markdown",
   "id": "82bd7647",
   "metadata": {},
   "source": [
    "### Q4. Where and how are instance attributes created?"
   ]
  },
  {
   "cell_type": "markdown",
   "id": "e350511e",
   "metadata": {},
   "source": [
    "Instance attributes are created inside the \\__init__ function.<br>\n",
    "every instance has different values for that <br>\n",
    "**Example**<br>\n",
    "class car:<br>\n",
    "    &emsp; wheels=4<br>\n",
    "    &emsp; def \\__init__(self,a,b):<br>\n",
    "        &emsp;&emsp; self.a=a<br>\n",
    "        &emsp;&emsp; self.b=b<br>\n",
    "        Here a and b are the instance attribute "
   ]
  },
  {
   "cell_type": "markdown",
   "id": "ca5f01d5",
   "metadata": {},
   "source": [
    "### Q5. What does the term \"self\" in a Python class mean?"
   ]
  },
  {
   "cell_type": "markdown",
   "id": "0771426c",
   "metadata": {},
   "source": [
    "**self** reperesent the current object in the python.<br>\n",
    "it is represented as the first parameter inside a function<br>\n",
    "it binds the attributes with given arguments"
   ]
  },
  {
   "cell_type": "code",
   "execution_count": 5,
   "id": "a76a142e",
   "metadata": {},
   "outputs": [
    {
     "name": "stdout",
     "output_type": "stream",
     "text": [
      "{'color': 'Indigo Blue', 'price': 1400000, 'engine': 'electric'}\n",
      "{'color': 'Pearl White', 'price': 2100000, 'engine': 'petrol'}\n"
     ]
    }
   ],
   "source": [
    "class Car:\n",
    "    def __init__(self,color,price,engine):\n",
    "        self.color = color # All this are instance attributes\n",
    "        self.price = price\n",
    "        self.engine = engine\n",
    "\n",
    "nexon_ev = Car('Indigo Blue', 1400000, 'electric')\n",
    "safari = Car('Pearl White',2100000, 'petrol')\n",
    "\n",
    "print(nexon_ev.__dict__)\n",
    "print(safari.__dict__)"
   ]
  },
  {
   "cell_type": "markdown",
   "id": "7ac3b8fe",
   "metadata": {},
   "source": [
    "### Q6. How does a Python class handle operator overloading?"
   ]
  },
  {
   "cell_type": "markdown",
   "id": "a66122ff",
   "metadata": {},
   "source": [
    "Python Classes handle operator overloading by using special methods called Magic methods. these special methods usually begin and end with __ (double underscore)\n",
    "Example: Magic methods for basic arithmetic operators are:\n",
    "<br>\n",
    "* \\+ -> __add__()\n",
    "* \\- -> __sub__()\n",
    "* \\* -> __mul__()\n",
    "* / -> __div__()"
   ]
  },
  {
   "cell_type": "code",
   "execution_count": 3,
   "id": "bcf13e32",
   "metadata": {},
   "outputs": [
    {
     "name": "stdout",
     "output_type": "stream",
     "text": [
      "The total number of pages in 2 books is 300\n"
     ]
    }
   ],
   "source": [
    "class Book:\n",
    "    def __init__(self,pages):\n",
    "        self.pages = pages\n",
    "    def __add__(self,other):\n",
    "        return self.pages + other.pages\n",
    "b1 = Book(100)\n",
    "b2 = Book(200)\n",
    "print(f'The total number of pages in 2 books is {b1+b2}')"
   ]
  },
  {
   "cell_type": "markdown",
   "id": "bc97a270",
   "metadata": {},
   "source": [
    "### Q7. When do you consider allowing operator overloading of your classes?"
   ]
  },
  {
   "cell_type": "markdown",
   "id": "bdafbc21",
   "metadata": {},
   "source": [
    "When we want to have different meaning for the same operator accroding to the context we use operator overloading."
   ]
  },
  {
   "cell_type": "markdown",
   "id": "586f6d28",
   "metadata": {},
   "source": [
    "### Q8. What is the most popular form of operator overloading?"
   ]
  },
  {
   "cell_type": "markdown",
   "id": "e3608a2c",
   "metadata": {},
   "source": [
    "he most popular form of operator overloading in python is by special methods called Magic methods. Which usually beign and end with double underscore ____."
   ]
  },
  {
   "cell_type": "code",
   "execution_count": 6,
   "id": "4376aca3",
   "metadata": {},
   "outputs": [
    {
     "name": "stdout",
     "output_type": "stream",
     "text": [
      "Sum -> 3\n",
      "String Concatenation -> Mano Vishnu\n"
     ]
    }
   ],
   "source": [
    "class A:\n",
    "    def __init__(self,a):\n",
    "        self.a = a\n",
    "    def __add__(self,o):\n",
    "        return self.a+o.a\n",
    "obj1 = A(1)\n",
    "obj2 = A(2)\n",
    "obj3 = A('Mano')\n",
    "obj4 = A(' Vishnu')\n",
    "print(f'Sum -> {obj1+obj2}')\n",
    "print(f'String Concatenation -> {obj3+obj4}')"
   ]
  },
  {
   "cell_type": "markdown",
   "id": "ce8f2916",
   "metadata": {},
   "source": [
    "### Q9. What are the two most important concepts to grasp in order to comprehend Python OOP code?"
   ]
  },
  {
   "cell_type": "markdown",
   "id": "70285adc",
   "metadata": {},
   "source": [
    "**class** and **object** is the most important concept in OOP programming <br>\n",
    "There is also four other components:<br>\n",
    "* Inheritance\n",
    "* Encapsulation\n",
    "* Asbstraction\n",
    "* Polymorphism"
   ]
  },
  {
   "cell_type": "code",
   "execution_count": null,
   "id": "bbfccf10",
   "metadata": {},
   "outputs": [],
   "source": []
  }
 ],
 "metadata": {
  "kernelspec": {
   "display_name": "Python 3 (ipykernel)",
   "language": "python",
   "name": "python3"
  },
  "language_info": {
   "codemirror_mode": {
    "name": "ipython",
    "version": 3
   },
   "file_extension": ".py",
   "mimetype": "text/x-python",
   "name": "python",
   "nbconvert_exporter": "python",
   "pygments_lexer": "ipython3",
   "version": "3.9.12"
  }
 },
 "nbformat": 4,
 "nbformat_minor": 5
}
