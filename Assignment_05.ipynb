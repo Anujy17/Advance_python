{
  "nbformat": 4,
  "nbformat_minor": 0,
  "metadata": {
    "colab": {
      "provenance": []
    },
    "kernelspec": {
      "name": "python3",
      "display_name": "Python 3"
    },
    "language_info": {
      "name": "python"
    }
  },
  "cells": [
    {
      "cell_type": "markdown",
      "source": [
        "# Assignment 5 Advance Python"
      ],
      "metadata": {
        "id": "JBPY9Pg8CeNN"
      }
    },
    {
      "cell_type": "markdown",
      "source": [
        "### Q1. What is the meaning of multiple inheritance?"
      ],
      "metadata": {
        "id": "lkOLqe-GCn-Z"
      }
    },
    {
      "cell_type": "markdown",
      "source": [
        "**Ans :** in multiple inheritance a subclass is inharited muliple super class."
      ],
      "metadata": {
        "id": "K8JyS92XCrTy"
      }
    },
    {
      "cell_type": "code",
      "source": [
        "class Parent1:\n",
        "  pass\n",
        "class Parent2:\n",
        "  pass\n",
        "class child(Parent1,Parent2):\n",
        "  pass"
      ],
      "metadata": {
        "id": "HHmn-91kDBJQ"
      },
      "execution_count": 1,
      "outputs": []
    },
    {
      "cell_type": "markdown",
      "source": [
        "### Q2. What is the concept of delegation?"
      ],
      "metadata": {
        "id": "mk5c5Zg-DOpW"
      }
    },
    {
      "cell_type": "markdown",
      "source": [
        "Delegation provides a proxy object for any class thay you want on top of the main class. its like a wrapper to your class so that you can access limited resources of the main class.\n",
        "\n",
        "it Wraps the object of main class into a smaller object with limited access\n",
        "\n",
        "Simply Delegation means that you can include a instance of another class as an instance variable, and forward messages to the instance."
      ],
      "metadata": {
        "id": "GH3cOltkDRG3"
      }
    },
    {
      "cell_type": "code",
      "source": [
        "class Myclass:\n",
        "    def sayHi(self):\n",
        "        print('Hey iam back')\n",
        "    def whoAmI(self):\n",
        "        print('Iam the main class')\n",
        "class NewClass:\n",
        "    def __init__(self,obj):\n",
        "        self.main = obj\n",
        "    def welcome(self):\n",
        "        self.main.sayHi()\n",
        "\n",
        "m = Myclass()        \n",
        "n = NewClass(m)\n",
        "m.sayHi()\n",
        "n.main.sayHi()\n",
        "n.welcome()\n",
        "n.main.whoAmI()"
      ],
      "metadata": {
        "colab": {
          "base_uri": "https://localhost:8080/"
        },
        "id": "1UEJOkPcFyvv",
        "outputId": "3cad193d-2e78-48c7-d552-2026b44e23ea"
      },
      "execution_count": 2,
      "outputs": [
        {
          "output_type": "stream",
          "name": "stdout",
          "text": [
            "Hey iam back\n",
            "Hey iam back\n",
            "Hey iam back\n",
            "Iam the main class\n"
          ]
        }
      ]
    },
    {
      "cell_type": "markdown",
      "source": [
        "### Q3. What is the concept of composition?"
      ],
      "metadata": {
        "id": "ik2a-GtRGu-H"
      }
    },
    {
      "cell_type": "markdown",
      "source": [
        "Ans: In the concept of Composition, a class refers to one or more other classes by using instances of those classes as a instance variable. irrespective of inheritence in this approach all the parent class members are not inherited into child class, but only required methods from a class are used by using class instances."
      ],
      "metadata": {
        "id": "ajl7mjgkGy3G"
      }
    },
    {
      "cell_type": "code",
      "source": [
        "class Salary:\n",
        "    def __init__(self,pay):\n",
        "        self.pay = pay\n",
        "    def get_total(self):\n",
        "        return self.pay*12\n",
        "    \n",
        "class Employee:\n",
        "    def __init__(self,pay,bonus):\n",
        "        self.pay = pay\n",
        "        self.bonus = bonus\n",
        "        self.obj_salary = Salary(self.pay)\n",
        "    def annual_salary(self):\n",
        "        return f'Total Salary : {str(self.obj_salary.get_total())}'\n",
        "\n",
        "obj_emp = Employee(800,500)\n",
        "print(obj_emp.annual_salary())"
      ],
      "metadata": {
        "colab": {
          "base_uri": "https://localhost:8080/"
        },
        "id": "66RdCOm4GqUF",
        "outputId": "8dfe93c1-ad91-48f0-a9de-9a22cb429cba"
      },
      "execution_count": 3,
      "outputs": [
        {
          "output_type": "stream",
          "name": "stdout",
          "text": [
            "Total Salary : 9600\n"
          ]
        }
      ]
    },
    {
      "cell_type": "markdown",
      "source": [
        "### Q4. What are bound methods and how do we use them?"
      ],
      "metadata": {
        "id": "lLiLrvTnHYNR"
      }
    },
    {
      "cell_type": "markdown",
      "source": [
        "Ans: If a function is an attribute of class and it is accessed via the instances, they are called bound methods. A bound method is one that has self as its first argument. Since these are dependent on the instance of classes, these are also known as instance methods."
      ],
      "metadata": {
        "id": "NsQjcDMkHaST"
      }
    },
    {
      "cell_type": "code",
      "source": [
        "class Test:\n",
        "    def method_one(self): # bound method\n",
        "        print(\"Called method_one\")\n",
        "    @classmethod\n",
        "    def method_two(cls): # unbound method\n",
        "        print(\"Called method_two\")\n",
        "    @staticmethod\n",
        "    def method_three(): # static method\n",
        "        print(\"Called method_three\")\n",
        "\n",
        "test = Test()\n",
        "test.method_one() # accessing through instance object\n",
        "test.method_two() # accessing through instance object\n",
        "Test.method_two() # accessing directly through class\n",
        "Test.method_three() # accessing directly through class"
      ],
      "metadata": {
        "colab": {
          "base_uri": "https://localhost:8080/"
        },
        "id": "DAjw4-3GG97b",
        "outputId": "567b84be-6a55-4872-a3f4-a582f589a0e1"
      },
      "execution_count": 4,
      "outputs": [
        {
          "output_type": "stream",
          "name": "stdout",
          "text": [
            "Called method_one\n",
            "Called method_two\n",
            "Called method_two\n",
            "Called method_three\n"
          ]
        }
      ]
    },
    {
      "cell_type": "markdown",
      "source": [
        "### Q5. What is the purpose of pseudoprivate attributes?"
      ],
      "metadata": {
        "id": "086jZHcXHhS-"
      }
    },
    {
      "cell_type": "markdown",
      "source": [
        "Ans: Pseudoprivate attributes are also useful in larger frameworks or tools, both to avoid introducing new method names that might accidentally hide definitions elsewhere in the class tree and to reduce the chance of internal methods being replaced by names defined lower in the tree. If a method is intended for use only within a class that may be mixed into other classes, the double underscore prefix ensures that the method won't interfere with other names in the tree, especially in multiple-inheritance scenarios\n",
        "\n",
        "Pseudoprivate names also prevent subclasses from accidentally redefining the internal method's names,"
      ],
      "metadata": {
        "id": "1Re0tmeZHkUf"
      }
    },
    {
      "cell_type": "code",
      "source": [
        "class Super:\n",
        "    def method(self): # A real application method\n",
        "        pass\n",
        "class Tool:\n",
        "    def _method(self): # becomes _Tool_method\n",
        "        pass\n",
        "    def other(self): # uses internal method\n",
        "        self._method()\n",
        "class Subl(Tool,Super):\n",
        "    def actions(self):\n",
        "        self.method()\n",
        "class Sub2(Tool):\n",
        "    def __init__(self):\n",
        "        self.method = 99"
      ],
      "metadata": {
        "id": "butBELyHHeoa"
      },
      "execution_count": 5,
      "outputs": []
    }
  ]
}
