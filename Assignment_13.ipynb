{
  "nbformat": 4,
  "nbformat_minor": 0,
  "metadata": {
    "colab": {
      "provenance": []
    },
    "kernelspec": {
      "name": "python3",
      "display_name": "Python 3"
    },
    "language_info": {
      "name": "python"
    }
  },
  "cells": [
    {
      "cell_type": "markdown",
      "source": [
        "# Assignment 13"
      ],
      "metadata": {
        "id": "PNDo7sxMkr1J"
      }
    },
    {
      "cell_type": "markdown",
      "source": [
        "Q1. Can you create a programme or function that employs both positive and negative indexing? Is there any repercussion if you do so?"
      ],
      "metadata": {
        "id": "yM2UBXMzlA2W"
      }
    },
    {
      "cell_type": "markdown",
      "source": [
        "Python supports negative indexing of an iterable object. We can access the elements of a object from the end by indexes starting from -1, -2, -3... There is no repercussion if we use either positive or negative indexing."
      ],
      "metadata": {
        "id": "J2lVbAiRlDA_"
      }
    },
    {
      "cell_type": "code",
      "execution_count": 1,
      "metadata": {
        "colab": {
          "base_uri": "https://localhost:8080/"
        },
        "id": "WUJOAPszkp9I",
        "outputId": "b48d5238-6329-4143-ea75-1b33b86e3039"
      },
      "outputs": [
        {
          "output_type": "stream",
          "name": "stdout",
          "text": [
            "abcdefg\n",
            "e\n",
            "cdefg\n",
            "def\n",
            "[1, 2, 3, 4, 5, 6, 7]\n",
            "5\n",
            "[3, 4, 5, 6, 7]\n",
            "[4, 5, 6]\n"
          ]
        }
      ],
      "source": [
        "def indexing(data, typ):\n",
        "    if typ == 'positive':\n",
        "        print(data[0:])\n",
        "        print(data[4])\n",
        "        print(data[2:len(data)])\n",
        "        print(data[3:len(data)-1])\n",
        "    if typ == 'negative':\n",
        "        print(data[-2])\n",
        "        print(data[-1:0:-1])\n",
        "        print(data[-6:-2])\n",
        "        print(data[-3:-1])     \n",
        "    \n",
        "indexing(\"abcdefg\",'positive')\n",
        "indexing([1,2,3,4,5,6,7],'positive')    "
      ]
    },
    {
      "cell_type": "markdown",
      "source": [
        "### Q2. What is the most effective way of starting with 1,000 elements in a Python list? Assume that all elements should be set to the same value."
      ],
      "metadata": {
        "id": "X5-BQhzPlKPY"
      }
    },
    {
      "cell_type": "markdown",
      "source": [
        "We can use * operator for this."
      ],
      "metadata": {
        "id": "rq6uewhilNnj"
      }
    },
    {
      "cell_type": "code",
      "source": [
        "my_list = [12] * 1000\n",
        "print(\"Length of the list is::\",len(my_list))\n",
        "print(my_list)"
      ],
      "metadata": {
        "colab": {
          "base_uri": "https://localhost:8080/"
        },
        "id": "OoyFfis7lIoK",
        "outputId": "ee86b7c5-6897-4ee9-f18f-9b7091b6b6d0"
      },
      "execution_count": 2,
      "outputs": [
        {
          "output_type": "stream",
          "name": "stdout",
          "text": [
            "Length of the list is:: 1000\n",
            "[12, 12, 12, 12, 12, 12, 12, 12, 12, 12, 12, 12, 12, 12, 12, 12, 12, 12, 12, 12, 12, 12, 12, 12, 12, 12, 12, 12, 12, 12, 12, 12, 12, 12, 12, 12, 12, 12, 12, 12, 12, 12, 12, 12, 12, 12, 12, 12, 12, 12, 12, 12, 12, 12, 12, 12, 12, 12, 12, 12, 12, 12, 12, 12, 12, 12, 12, 12, 12, 12, 12, 12, 12, 12, 12, 12, 12, 12, 12, 12, 12, 12, 12, 12, 12, 12, 12, 12, 12, 12, 12, 12, 12, 12, 12, 12, 12, 12, 12, 12, 12, 12, 12, 12, 12, 12, 12, 12, 12, 12, 12, 12, 12, 12, 12, 12, 12, 12, 12, 12, 12, 12, 12, 12, 12, 12, 12, 12, 12, 12, 12, 12, 12, 12, 12, 12, 12, 12, 12, 12, 12, 12, 12, 12, 12, 12, 12, 12, 12, 12, 12, 12, 12, 12, 12, 12, 12, 12, 12, 12, 12, 12, 12, 12, 12, 12, 12, 12, 12, 12, 12, 12, 12, 12, 12, 12, 12, 12, 12, 12, 12, 12, 12, 12, 12, 12, 12, 12, 12, 12, 12, 12, 12, 12, 12, 12, 12, 12, 12, 12, 12, 12, 12, 12, 12, 12, 12, 12, 12, 12, 12, 12, 12, 12, 12, 12, 12, 12, 12, 12, 12, 12, 12, 12, 12, 12, 12, 12, 12, 12, 12, 12, 12, 12, 12, 12, 12, 12, 12, 12, 12, 12, 12, 12, 12, 12, 12, 12, 12, 12, 12, 12, 12, 12, 12, 12, 12, 12, 12, 12, 12, 12, 12, 12, 12, 12, 12, 12, 12, 12, 12, 12, 12, 12, 12, 12, 12, 12, 12, 12, 12, 12, 12, 12, 12, 12, 12, 12, 12, 12, 12, 12, 12, 12, 12, 12, 12, 12, 12, 12, 12, 12, 12, 12, 12, 12, 12, 12, 12, 12, 12, 12, 12, 12, 12, 12, 12, 12, 12, 12, 12, 12, 12, 12, 12, 12, 12, 12, 12, 12, 12, 12, 12, 12, 12, 12, 12, 12, 12, 12, 12, 12, 12, 12, 12, 12, 12, 12, 12, 12, 12, 12, 12, 12, 12, 12, 12, 12, 12, 12, 12, 12, 12, 12, 12, 12, 12, 12, 12, 12, 12, 12, 12, 12, 12, 12, 12, 12, 12, 12, 12, 12, 12, 12, 12, 12, 12, 12, 12, 12, 12, 12, 12, 12, 12, 12, 12, 12, 12, 12, 12, 12, 12, 12, 12, 12, 12, 12, 12, 12, 12, 12, 12, 12, 12, 12, 12, 12, 12, 12, 12, 12, 12, 12, 12, 12, 12, 12, 12, 12, 12, 12, 12, 12, 12, 12, 12, 12, 12, 12, 12, 12, 12, 12, 12, 12, 12, 12, 12, 12, 12, 12, 12, 12, 12, 12, 12, 12, 12, 12, 12, 12, 12, 12, 12, 12, 12, 12, 12, 12, 12, 12, 12, 12, 12, 12, 12, 12, 12, 12, 12, 12, 12, 12, 12, 12, 12, 12, 12, 12, 12, 12, 12, 12, 12, 12, 12, 12, 12, 12, 12, 12, 12, 12, 12, 12, 12, 12, 12, 12, 12, 12, 12, 12, 12, 12, 12, 12, 12, 12, 12, 12, 12, 12, 12, 12, 12, 12, 12, 12, 12, 12, 12, 12, 12, 12, 12, 12, 12, 12, 12, 12, 12, 12, 12, 12, 12, 12, 12, 12, 12, 12, 12, 12, 12, 12, 12, 12, 12, 12, 12, 12, 12, 12, 12, 12, 12, 12, 12, 12, 12, 12, 12, 12, 12, 12, 12, 12, 12, 12, 12, 12, 12, 12, 12, 12, 12, 12, 12, 12, 12, 12, 12, 12, 12, 12, 12, 12, 12, 12, 12, 12, 12, 12, 12, 12, 12, 12, 12, 12, 12, 12, 12, 12, 12, 12, 12, 12, 12, 12, 12, 12, 12, 12, 12, 12, 12, 12, 12, 12, 12, 12, 12, 12, 12, 12, 12, 12, 12, 12, 12, 12, 12, 12, 12, 12, 12, 12, 12, 12, 12, 12, 12, 12, 12, 12, 12, 12, 12, 12, 12, 12, 12, 12, 12, 12, 12, 12, 12, 12, 12, 12, 12, 12, 12, 12, 12, 12, 12, 12, 12, 12, 12, 12, 12, 12, 12, 12, 12, 12, 12, 12, 12, 12, 12, 12, 12, 12, 12, 12, 12, 12, 12, 12, 12, 12, 12, 12, 12, 12, 12, 12, 12, 12, 12, 12, 12, 12, 12, 12, 12, 12, 12, 12, 12, 12, 12, 12, 12, 12, 12, 12, 12, 12, 12, 12, 12, 12, 12, 12, 12, 12, 12, 12, 12, 12, 12, 12, 12, 12, 12, 12, 12, 12, 12, 12, 12, 12, 12, 12, 12, 12, 12, 12, 12, 12, 12, 12, 12, 12, 12, 12, 12, 12, 12, 12, 12, 12, 12, 12, 12, 12, 12, 12, 12, 12, 12, 12, 12, 12, 12, 12, 12, 12, 12, 12, 12, 12, 12, 12, 12, 12, 12, 12, 12, 12, 12, 12, 12, 12, 12, 12, 12, 12, 12, 12, 12, 12, 12, 12, 12, 12, 12, 12, 12, 12, 12, 12, 12, 12, 12, 12, 12, 12, 12, 12, 12, 12, 12, 12, 12, 12, 12, 12, 12, 12, 12, 12, 12, 12, 12, 12, 12, 12, 12, 12, 12, 12, 12, 12, 12, 12, 12, 12, 12, 12, 12, 12, 12, 12, 12, 12, 12, 12, 12, 12, 12, 12, 12, 12, 12, 12, 12, 12, 12, 12, 12, 12, 12, 12, 12, 12, 12, 12, 12, 12, 12, 12, 12, 12, 12, 12, 12, 12, 12, 12, 12, 12, 12, 12, 12, 12, 12, 12, 12, 12, 12, 12, 12, 12, 12, 12, 12, 12, 12, 12, 12, 12, 12, 12, 12, 12, 12, 12, 12, 12, 12, 12, 12, 12, 12, 12, 12, 12, 12, 12, 12, 12, 12, 12, 12, 12, 12, 12, 12, 12, 12, 12, 12, 12, 12, 12, 12, 12, 12, 12, 12, 12, 12, 12, 12, 12, 12, 12, 12, 12, 12, 12, 12, 12, 12, 12, 12, 12, 12, 12, 12, 12, 12, 12, 12, 12, 12, 12, 12, 12, 12, 12, 12, 12]\n"
          ]
        }
      ]
    },
    {
      "cell_type": "markdown",
      "source": [
        "### Q3. How do you slice a list to get any other part while missing the rest? (For example, suppose you want to make a new list with the elements first, third, fifth, seventh, and so on.)"
      ],
      "metadata": {
        "id": "sOV-XEc4mrmu"
      }
    },
    {
      "cell_type": "code",
      "source": [
        "my_list = [1,2,3,4,5,6,7,8,9,10,11,12]\n",
        "\n",
        "new_list = my_list[1:len(my_list):2]\n",
        "\n",
        "print(new_list)"
      ],
      "metadata": {
        "colab": {
          "base_uri": "https://localhost:8080/"
        },
        "id": "wM8JkduwlQft",
        "outputId": "ef9c9444-2785-4b40-e91b-a7a8a59ffa83"
      },
      "execution_count": 3,
      "outputs": [
        {
          "output_type": "stream",
          "name": "stdout",
          "text": [
            "[2, 4, 6, 8, 10, 12]\n"
          ]
        }
      ]
    },
    {
      "cell_type": "markdown",
      "source": [
        "### Q4. Explain the distinctions between indexing and slicing."
      ],
      "metadata": {
        "id": "QBiRzuNrmwhT"
      }
    },
    {
      "cell_type": "markdown",
      "source": [
        "Indexing is the way of accessing a single element of the object by its index or position, where as, slicing enables us to access the sub parts of object. Slicing can be done using indexes."
      ],
      "metadata": {
        "id": "KGn9ZYGimzKa"
      }
    },
    {
      "cell_type": "code",
      "source": [
        "my_list = [1,2,3,4,5,6,7,8,9,10,11,12]\n",
        "\n",
        "new_list = my_list[1:len(my_list):2] # this is list sclicing.\n",
        "\n",
        "print(new_list)\n",
        "\n",
        "print(new_list[2]) # this is list indexing"
      ],
      "metadata": {
        "colab": {
          "base_uri": "https://localhost:8080/"
        },
        "id": "dEf2rKn7mu3E",
        "outputId": "5b5fffff-d713-4267-f483-91887445df50"
      },
      "execution_count": 4,
      "outputs": [
        {
          "output_type": "stream",
          "name": "stdout",
          "text": [
            "[2, 4, 6, 8, 10, 12]\n",
            "6\n"
          ]
        }
      ]
    },
    {
      "cell_type": "markdown",
      "source": [
        "### Q5. What happens if one of the slicing expression's indexes is out of range?"
      ],
      "metadata": {
        "id": "xAXfKg0km6Ml"
      }
    },
    {
      "cell_type": "markdown",
      "source": [
        "The slicing operation doesn’t raise an error if one of the indices are out of range. This is in not in the case of indexing;if you index an element that is out of bounds, Python will throw an index out of bounds error. However, with slicing it simply returns an exisiting accessed elements. It stops accessing elements after the end of the object is reached."
      ],
      "metadata": {
        "id": "2RzeV2Ftm9i5"
      }
    },
    {
      "cell_type": "code",
      "source": [
        "print(new_list[0:12])"
      ],
      "metadata": {
        "colab": {
          "base_uri": "https://localhost:8080/"
        },
        "id": "u2vWxXAzm4P7",
        "outputId": "7046ced5-821b-4bbe-a693-0c4a4bb39f88"
      },
      "execution_count": 5,
      "outputs": [
        {
          "output_type": "stream",
          "name": "stdout",
          "text": [
            "[2, 4, 6, 8, 10, 12]\n"
          ]
        }
      ]
    },
    {
      "cell_type": "markdown",
      "source": [
        "### Q6. If you pass a list to a function, and if you want the function to be able to change the values of the list—so that the list is different after the function returns—what action should you avoid?"
      ],
      "metadata": {
        "id": "lgy748PlnB0_"
      }
    },
    {
      "cell_type": "markdown",
      "source": [
        "We should avoid passing the list as an argument in the function by value. If we do so, it will point to different memory location and will not be able alter the list."
      ],
      "metadata": {
        "id": "HMSebXZSnESN"
      }
    },
    {
      "cell_type": "code",
      "source": [
        "def fun(l1):\n",
        "    for i in range(len(l1)):\n",
        "        l1[i] = l1[i]**2\n",
        "    return l1\n",
        "\n",
        "l  = [1,2,3,4]\n",
        "print(\"Original list is\",l)\n",
        "print(\"Call by reference alters list to\",fun(l))\n",
        "\n",
        "\n",
        "def fun1(l2):\n",
        "    print('Before doing anything, list is::',l2)\n",
        "    l2 = [100,200,300,400,500]\n",
        "    print(\"After assigning new values, list is::\",l2)\n",
        "\n",
        "l  = [1,2,3,4]\n",
        "print(\"\\n Original list is\",l)\n",
        "fun1(l)\n",
        "print(\"After calling function, list is::\",l)"
      ],
      "metadata": {
        "colab": {
          "base_uri": "https://localhost:8080/"
        },
        "id": "U64O84CanAIi",
        "outputId": "5afba997-ac27-4826-9b18-46d51c8b6658"
      },
      "execution_count": 6,
      "outputs": [
        {
          "output_type": "stream",
          "name": "stdout",
          "text": [
            "Original list is [1, 2, 3, 4]\n",
            "Call by reference alters list to [1, 4, 9, 16]\n",
            "\n",
            " Original list is [1, 2, 3, 4]\n",
            "Before doing anything, list is:: [1, 2, 3, 4]\n",
            "After assigning new values, list is:: [100, 200, 300, 400, 500]\n",
            "After calling function, list is:: [1, 2, 3, 4]\n"
          ]
        }
      ]
    },
    {
      "cell_type": "markdown",
      "source": [
        "### Q7. What is the concept of an unbalanced matrix?"
      ],
      "metadata": {
        "id": "56QE2R-xnIox"
      }
    },
    {
      "cell_type": "markdown",
      "source": [
        "A matrix is balanced if all cells in the matrix are balanced and a cell of the matrix is balanced if the number of cells in that matrix that are adjacent to that cell is strictly greater than the value written in this cell. Adjacent cell means cells in the top, down, left, and right cell of each cell if it exists."
      ],
      "metadata": {
        "id": "jWsDhASonLI8"
      }
    },
    {
      "cell_type": "code",
      "source": [
        "import numpy as np\n",
        "\n",
        "mat = np.matrix([[1, 2, 3],[4, 5, 6],[7, 8, 9]])\n",
        "mat \n"
      ],
      "metadata": {
        "colab": {
          "base_uri": "https://localhost:8080/"
        },
        "id": "hAVactmZnGne",
        "outputId": "0e59b701-7ca1-4935-a948-d99d45cc7064"
      },
      "execution_count": 7,
      "outputs": [
        {
          "output_type": "execute_result",
          "data": {
            "text/plain": [
              "matrix([[1, 2, 3],\n",
              "        [4, 5, 6],\n",
              "        [7, 8, 9]])"
            ]
          },
          "metadata": {},
          "execution_count": 7
        }
      ]
    },
    {
      "cell_type": "markdown",
      "source": [
        "Q8. Why is it necessary to use either list comprehension or a loop to create arbitrarily large matrices?"
      ],
      "metadata": {
        "id": "nSE4wmqCnQzP"
      }
    },
    {
      "cell_type": "markdown",
      "source": [
        "In Python 3, we can use numpy library to create large matrices instaed of list comprehension or a loop."
      ],
      "metadata": {
        "id": "XN6z5A3knUOS"
      }
    }
  ]
}