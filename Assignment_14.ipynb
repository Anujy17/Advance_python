{
  "nbformat": 4,
  "nbformat_minor": 0,
  "metadata": {
    "colab": {
      "provenance": []
    },
    "kernelspec": {
      "name": "python3",
      "display_name": "Python 3"
    },
    "language_info": {
      "name": "python"
    }
  },
  "cells": [
    {
      "cell_type": "markdown",
      "source": [
        "# Assignment 14"
      ],
      "metadata": {
        "id": "dQn1Esznn5c0"
      }
    },
    {
      "cell_type": "markdown",
      "source": [
        "### Q1. Is an assignment operator like += only for show? Is it possible that it would lead to faster results at the runtime?"
      ],
      "metadata": {
        "id": "dC_qGx_Sn9C_"
      }
    },
    {
      "cell_type": "markdown",
      "source": [
        "+= is fatser and easy to write for us. runtime of a += 5 is slightly less than a = a + 5 but, the difference is really minor."
      ],
      "metadata": {
        "id": "f0vfsdvmoDsa"
      }
    },
    {
      "cell_type": "markdown",
      "source": [
        "### Q2. What is the smallest number of statements you'd have to write in most programming languages to replace the Python expression a, b = a + b, a?"
      ],
      "metadata": {
        "id": "uWsoFuyioFuf"
      }
    },
    {
      "cell_type": "markdown",
      "source": [
        "Two"
      ],
      "metadata": {
        "id": "kMwHL4jwoKim"
      }
    },
    {
      "cell_type": "markdown",
      "source": [
        "### Q3. In Python, what is the most effective way to set a list of 100 integers to 0?"
      ],
      "metadata": {
        "id": "w_DPQziboW8b"
      }
    },
    {
      "cell_type": "code",
      "execution_count": 1,
      "metadata": {
        "colab": {
          "base_uri": "https://localhost:8080/"
        },
        "id": "0uvTtMebn16R",
        "outputId": "f31b6cab-c6b1-4113-f626-1496d85e1499"
      },
      "outputs": [
        {
          "output_type": "stream",
          "name": "stdout",
          "text": [
            "[0, 0, 0, 0, 0, 0, 0, 0, 0, 0, 0, 0, 0, 0, 0, 0, 0, 0, 0, 0, 0, 0, 0, 0, 0, 0, 0, 0, 0, 0, 0, 0, 0, 0, 0, 0, 0, 0, 0, 0, 0, 0, 0, 0, 0, 0, 0, 0, 0, 0, 0, 0, 0, 0, 0, 0, 0, 0, 0, 0, 0, 0, 0, 0, 0, 0, 0, 0, 0, 0, 0, 0, 0, 0, 0, 0, 0, 0, 0, 0, 0, 0, 0, 0, 0, 0, 0, 0, 0, 0, 0, 0, 0, 0, 0, 0, 0, 0, 0, 0]\n"
          ]
        }
      ],
      "source": [
        "l = [0] * 100\n",
        "\n",
        "print(l)"
      ]
    },
    {
      "cell_type": "markdown",
      "source": [
        "### Q4. What is the most effective way to initialise a list of 99 integers that repeats the sequence 1, 2, 3? S If necessary, show step-by-step instructions on how to accomplish this."
      ],
      "metadata": {
        "id": "KGCUSGFPobn-"
      }
    },
    {
      "cell_type": "code",
      "source": [
        "l1 = [1,2,3] # create a list containing 1,2,3\n",
        "\n",
        "count = int(101/len(l1)) # repeat count\n",
        "\n",
        "l =  l1 * count # * operator is used to repeat the list\n",
        "\n",
        "print(l)"
      ],
      "metadata": {
        "colab": {
          "base_uri": "https://localhost:8080/"
        },
        "id": "T-QvfVTmoZ0C",
        "outputId": "fb3bfd9c-8a84-487b-b496-44b83a234b1c"
      },
      "execution_count": 2,
      "outputs": [
        {
          "output_type": "stream",
          "name": "stdout",
          "text": [
            "[1, 2, 3, 1, 2, 3, 1, 2, 3, 1, 2, 3, 1, 2, 3, 1, 2, 3, 1, 2, 3, 1, 2, 3, 1, 2, 3, 1, 2, 3, 1, 2, 3, 1, 2, 3, 1, 2, 3, 1, 2, 3, 1, 2, 3, 1, 2, 3, 1, 2, 3, 1, 2, 3, 1, 2, 3, 1, 2, 3, 1, 2, 3, 1, 2, 3, 1, 2, 3, 1, 2, 3, 1, 2, 3, 1, 2, 3, 1, 2, 3, 1, 2, 3, 1, 2, 3, 1, 2, 3, 1, 2, 3, 1, 2, 3, 1, 2, 3]\n"
          ]
        }
      ]
    },
    {
      "cell_type": "markdown",
      "source": [
        "### Q5. If you're using IDLE to run a Python application, explain how to print a multidimensional list as efficiently?"
      ],
      "metadata": {
        "id": "HtgQmsQrohNC"
      }
    },
    {
      "cell_type": "markdown",
      "source": [
        "We can print multidimentional list by simply writing the name of the variable in a cell"
      ],
      "metadata": {
        "id": "BfstjQ8Sojx3"
      }
    },
    {
      "cell_type": "code",
      "source": [
        "l = [[1,2,3,4],['A','B'],[5,6,7,8]]\n",
        "\n",
        "l"
      ],
      "metadata": {
        "colab": {
          "base_uri": "https://localhost:8080/"
        },
        "id": "HUZ8q50DofWl",
        "outputId": "8e1c6469-3725-437a-843d-5a85d33a6e1e"
      },
      "execution_count": 3,
      "outputs": [
        {
          "output_type": "execute_result",
          "data": {
            "text/plain": [
              "[[1, 2, 3, 4], ['A', 'B'], [5, 6, 7, 8]]"
            ]
          },
          "metadata": {},
          "execution_count": 3
        }
      ]
    },
    {
      "cell_type": "markdown",
      "source": [
        "### Q6. Is it possible to use list comprehension with a string? If so, how can you go about doing it?"
      ],
      "metadata": {
        "id": "_9XqzgJlon42"
      }
    },
    {
      "cell_type": "markdown",
      "source": [
        "Yes, it is possible as string is an iterable object. Explained below::"
      ],
      "metadata": {
        "id": "52ZNJ1wFoqwK"
      }
    },
    {
      "cell_type": "code",
      "source": [
        "s = 'akash'\n",
        "\n",
        "[i*2 for i in s]"
      ],
      "metadata": {
        "colab": {
          "base_uri": "https://localhost:8080/"
        },
        "id": "LkDOvVLoomBD",
        "outputId": "a5898218-a132-4ad1-cc24-c549612d7e84"
      },
      "execution_count": 4,
      "outputs": [
        {
          "output_type": "execute_result",
          "data": {
            "text/plain": [
              "['aa', 'kk', 'aa', 'ss', 'hh']"
            ]
          },
          "metadata": {},
          "execution_count": 4
        }
      ]
    },
    {
      "cell_type": "markdown",
      "source": [
        "### Q7. From the command line, how do you get support with a user-written Python programme? Is this possible from inside IDLE?"
      ],
      "metadata": {
        "id": "FqlgNdsPouaC"
      }
    },
    {
      "cell_type": "markdown",
      "source": [
        "Steps for command line:\n",
        "\n",
        "    1. Open command prompt.\n",
        "    2. Go to the directory containing python program file(.py)\n",
        "    3. Type \"python file_name.py\", press enter to run the file.\n",
        "\n",
        "Steps for python IDLE:\n",
        "\n",
        "    1. Open python IDLE.\n",
        "    2. Click on file>open>file_name.py\n",
        "    3. Press F5 key to run the program."
      ],
      "metadata": {
        "id": "rfH_noKMoxOF"
      }
    },
    {
      "cell_type": "markdown",
      "source": [
        "### Q8. Functions are said to be “first-class objects” in Python but not in most other languages, such as C++ or Java. What can you do in Python with a function (callable object) that you can't do in C or C++?"
      ],
      "metadata": {
        "id": "Qlr6Yni9o1yE"
      }
    },
    {
      "cell_type": "markdown",
      "source": [
        "In Python, functions are like any other object, such as an int or a list. That means that you can use functions as arguments to other functions, store functions as dictionary values, or return a function from another function. This leads to many powerful ways to use functions."
      ],
      "metadata": {
        "id": "gJfil9sao5cH"
      }
    },
    {
      "cell_type": "markdown",
      "source": [
        "### Q9. How do you distinguish between a wrapper, a wrapped feature, and a decorator?"
      ],
      "metadata": {
        "id": "cAy0AdJJo8TY"
      }
    },
    {
      "cell_type": "markdown",
      "source": [
        "A wrapper, a wrapped feature, and a decorator are all same. They can be thought of as functions which modify the functionality of another function. They help to make your code shorter and more \"Pythonic\"."
      ],
      "metadata": {
        "id": "EdCz9Agro-p-"
      }
    },
    {
      "cell_type": "markdown",
      "source": [
        "### Q10. If a function is a generator function, what does it return?"
      ],
      "metadata": {
        "id": "0tLNLt2RpA4l"
      }
    },
    {
      "cell_type": "markdown",
      "source": [
        "If a function is a generator function, it does not return any values, instead, it return an iterator object, which we can iterate through to get values."
      ],
      "metadata": {
        "id": "I49QeOZWpDig"
      }
    },
    {
      "cell_type": "markdown",
      "source": [
        "### Q11. What is the one improvement that must be made to a function in order for it to become a generator function in the Python language?"
      ],
      "metadata": {
        "id": "ubZaLmjtpFOg"
      }
    },
    {
      "cell_type": "markdown",
      "source": [
        "We can use \"yield\" keyword instead of \"return\" to make function a generator."
      ],
      "metadata": {
        "id": "FqhAuRh0pH-x"
      }
    },
    {
      "cell_type": "code",
      "source": [
        "def even_nos(n):\n",
        "    for i in range(n):\n",
        "        if i % 2 == 0:\n",
        "            yield i\n",
        "\n",
        "for i in even_nos(10):\n",
        "    print(i)"
      ],
      "metadata": {
        "colab": {
          "base_uri": "https://localhost:8080/"
        },
        "id": "sZTjpT2Xos8B",
        "outputId": "e007897b-eb59-4f0c-f6cd-881cf40ae64c"
      },
      "execution_count": 5,
      "outputs": [
        {
          "output_type": "stream",
          "name": "stdout",
          "text": [
            "0\n",
            "2\n",
            "4\n",
            "6\n",
            "8\n"
          ]
        }
      ]
    },
    {
      "cell_type": "markdown",
      "source": [
        "### Q12. Identify at least one benefit of generators."
      ],
      "metadata": {
        "id": "kXCfS64ZpMbl"
      }
    },
    {
      "cell_type": "markdown",
      "source": [
        "The main advantage here is that instead of having to compute an entire series of values up front, the generator computes one value and then suspends its activity awaiting the next instruction. This feature is known as state suspension.\n",
        "\n",
        "Generators are memory efficient."
      ],
      "metadata": {
        "id": "hJZUBz8kpPBr"
      }
    }
  ]
}