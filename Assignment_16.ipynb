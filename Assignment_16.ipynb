{
  "nbformat": 4,
  "nbformat_minor": 0,
  "metadata": {
    "colab": {
      "provenance": []
    },
    "kernelspec": {
      "name": "python3",
      "display_name": "Python 3"
    },
    "language_info": {
      "name": "python"
    }
  },
  "cells": [
    {
      "cell_type": "markdown",
      "source": [
        "# Assignment 16"
      ],
      "metadata": {
        "id": "607hFJjFs9T6"
      }
    },
    {
      "cell_type": "markdown",
      "source": [
        "## Q1. What is the benefit of regular expressions?"
      ],
      "metadata": {
        "id": "_wSEPa3ftJ07"
      }
    },
    {
      "cell_type": "markdown",
      "source": [
        "Regular expression let us search the piece of text that matches the given pattern. The main benefit of using them is, it saves lot of time and are very eeficient to use."
      ],
      "metadata": {
        "id": "0CdRPgCjtOCe"
      }
    },
    {
      "cell_type": "markdown",
      "source": [
        "## Q2. Describe the difference between the effects of \"(ab)c+\" and \"a(bc)+.\" Which of these, if any, is the unqualified pattern \"abc+\"?"
      ],
      "metadata": {
        "id": "dfDTy8optQqe"
      }
    },
    {
      "cell_type": "markdown",
      "source": [
        "Pattern (ab)c+ will search for at only one occurence of \"ab\" and one or more occurances of c.\n",
        "\n",
        "Pattern a(bc)+ will search for at only one occurence of \"a\" and one or more occurances of bc.\n",
        "\n",
        "pattern (ab)c+ can be unqualified pattern \"abc+\""
      ],
      "metadata": {
        "id": "K79hucTQtUeC"
      }
    },
    {
      "cell_type": "code",
      "execution_count": 1,
      "metadata": {
        "colab": {
          "base_uri": "https://localhost:8080/"
        },
        "id": "nz-Tsh0TsvKQ",
        "outputId": "dc5342d5-1316-42f6-8bb8-a5b7ff565d5b"
      },
      "outputs": [
        {
          "output_type": "stream",
          "name": "stdout",
          "text": [
            "abcccccc\n",
            "abcbc\n"
          ]
        }
      ],
      "source": [
        "import re\n",
        "\n",
        "match1 = re.search(r'(ab)c+',\"abcccccc\")\n",
        "match2 = re.search(r'a(bc)+',\"abcbc\")\n",
        "\n",
        "print(match1.group())\n",
        "\n",
        "print(match2.group())"
      ]
    },
    {
      "cell_type": "markdown",
      "source": [
        "## Q3. How much do you need to use the following sentence while using regular expressions?\n",
        "###import re"
      ],
      "metadata": {
        "id": "umrQ3nCKtbtK"
      }
    },
    {
      "cell_type": "markdown",
      "source": [
        "We have to use it everytime we use functions of the module re."
      ],
      "metadata": {
        "id": "oJ8hm46ctmb3"
      }
    },
    {
      "cell_type": "markdown",
      "source": [
        "## Q4. Which characters have special significance in square brackets when expressing a range, and under what circumstances?"
      ],
      "metadata": {
        "id": "n2FGuXDVtnGS"
      }
    },
    {
      "cell_type": "markdown",
      "source": [
        "\\ (backslash) : general escape character, is usd when you use character class metacharacters as literals inside a character class only.\n",
        "\n",
        "^ (circumflex anchor) : negate the class, if this is the first character in the brackets(If ^ is not the first, it is not a metacharacter.)"
      ],
      "metadata": {
        "id": "a8bGimLitq4m"
      }
    },
    {
      "cell_type": "markdown",
      "source": [
        "## Q5. How does compiling a regular-expression object benefit you?"
      ],
      "metadata": {
        "id": "uQbyfeWktuxo"
      }
    },
    {
      "cell_type": "markdown",
      "source": [
        "It is faster compared to using pattern ad other re functions."
      ],
      "metadata": {
        "id": "Wcz-F0QAtw45"
      }
    },
    {
      "cell_type": "markdown",
      "source": [
        "## Q6. What are some examples of how to use the match object returned by re.match and re.search?"
      ],
      "metadata": {
        "id": "ePaRcsZ4t1cm"
      }
    },
    {
      "cell_type": "markdown",
      "source": [
        "re.search() searches for the whole string even if the string contains multi-lines and tries to find a match of the substring in all the lines of string\n",
        "\n",
        "re.match() searches only from the beginning of the string and return match object if found. But if a match of substring is found somewhere in the middle of the string, it returns none.\n",
        "\n",
        "But, both search() and match() returns only the first occurance of pattern."
      ],
      "metadata": {
        "id": "JnPU_2m1t4Re"
      }
    },
    {
      "cell_type": "code",
      "source": [
        "import re\n",
        "\n",
        "pattern = 'ineuron'\n",
        "\n",
        "search = re.search(pattern,\"Ineuron is the best coaching class ineuron!\",re.IGNORECASE)\n",
        "\n",
        "print(search)\n",
        "\n",
        "match = re.match(pattern,\"The best coaching class is Ineuron!\",re.IGNORECASE)\n",
        "\n",
        "print(match)"
      ],
      "metadata": {
        "colab": {
          "base_uri": "https://localhost:8080/"
        },
        "id": "z_dftdgFtZWr",
        "outputId": "46992be0-04db-4c76-9bf4-984122392230"
      },
      "execution_count": 2,
      "outputs": [
        {
          "output_type": "stream",
          "name": "stdout",
          "text": [
            "<re.Match object; span=(0, 7), match='Ineuron'>\n",
            "None\n"
          ]
        }
      ]
    },
    {
      "cell_type": "markdown",
      "source": [
        "## Q7. What is the difference between using a vertical bar (|) as an alteration and using square brackets as a character set?"
      ],
      "metadata": {
        "id": "RLx-aVzdt8nF"
      }
    },
    {
      "cell_type": "markdown",
      "source": [
        "| : is regex or. It will check either of any string is present in search string.\n",
        "\n",
        "[] : This will search for any character is present in string"
      ],
      "metadata": {
        "id": "rNFx54euuAoC"
      }
    },
    {
      "cell_type": "code",
      "source": [
        "import re\n",
        "\n",
        "print(re.findall(\"She|he\", \"She is a great human!\"))\n",
        "\n",
        "print(re.findall(r'[^\\d]+',\"she is great human!\"))"
      ],
      "metadata": {
        "colab": {
          "base_uri": "https://localhost:8080/"
        },
        "id": "4SBrJJndt6zk",
        "outputId": "89686423-1949-45c5-9d9f-0d6adb798adf"
      },
      "execution_count": 3,
      "outputs": [
        {
          "output_type": "stream",
          "name": "stdout",
          "text": [
            "['She']\n",
            "['she is great human!']\n"
          ]
        }
      ]
    },
    {
      "cell_type": "markdown",
      "source": [
        "## Q8. In regular-expression search patterns, why is it necessary to use the raw-string indicator (r)? In replacement strings?"
      ],
      "metadata": {
        "id": "G3wwH1DfuFMR"
      }
    },
    {
      "cell_type": "markdown",
      "source": [
        "r indicates raw string means that the characters ahead are individual charachers not escape characters. It changes how the string literal is interpreted. Such literals are stored as they appear."
      ],
      "metadata": {
        "id": "gezEaJiFuHXJ"
      }
    }
  ]
}